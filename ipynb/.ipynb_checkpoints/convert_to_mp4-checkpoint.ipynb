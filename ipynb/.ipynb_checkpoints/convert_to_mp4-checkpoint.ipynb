{
 "cells": [
  {
   "cell_type": "code",
   "execution_count": 1,
   "metadata": {},
   "outputs": [],
   "source": [
    "import os, glob\n",
    "op = os.path \n",
    "opb = op.basename"
   ]
  },
  {
   "cell_type": "code",
   "execution_count": 2,
   "metadata": {},
   "outputs": [],
   "source": [
    "addr = '/media/sdata/Films'\n",
    "ll = glob.glob(f'{addr}/*.avi')"
   ]
  },
  {
   "cell_type": "code",
   "execution_count": null,
   "metadata": {},
   "outputs": [
    {
     "name": "stdout",
     "output_type": "stream",
     "text": [
      "/media/sdata/Films/Hotel_Terminus_2of2_-_The_Life_and_Times_of_Klaus_Barbie__1988,_Marcel_Ophuls_.avi\n"
     ]
    }
   ],
   "source": [
    "for l in ll:\n",
    "    print(l)\n",
    "    name = opb(l)[:-4]\n",
    "    os.system( f'ffmpeg -i {l} -vcodec h264 {addr}/{name}.mp4')"
   ]
  },
  {
   "cell_type": "code",
   "execution_count": null,
   "metadata": {},
   "outputs": [],
   "source": []
  }
 ],
 "metadata": {
  "kernelspec": {
   "display_name": "Python 3",
   "language": "python",
   "name": "python3"
  },
  "language_info": {
   "codemirror_mode": {
    "name": "ipython",
    "version": 3
   },
   "file_extension": ".py",
   "mimetype": "text/x-python",
   "name": "python",
   "nbconvert_exporter": "python",
   "pygments_lexer": "ipython3",
   "version": "3.7.6"
  }
 },
 "nbformat": 4,
 "nbformat_minor": 4
}
